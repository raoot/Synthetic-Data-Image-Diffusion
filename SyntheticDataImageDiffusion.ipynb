{
  "cells": [
    {
      "cell_type": "code",
      "execution_count": 1,
      "metadata": {
        "id": "XIdwfHA08J6W"
      },
      "outputs": [],
      "source": [
        "import pandas as pd\n",
        "import numpy as np\n",
        "import matplotlib.pyplot as plt"
      ]
    },
    {
      "cell_type": "code",
      "execution_count": 2,
      "metadata": {
        "id": "08eNXRe-ZOgB"
      },
      "outputs": [],
      "source": [
        "# Reference: https://github.com/Saurabh2805/kdd_cup_99/blob/master/KDD_CUP_99_dataset_1.ipynb\n",
        "# Label = 'intrusion_type'\n",
        "columns = ['duration','protocol_type','service','flag','src_bytes','dst_bytes','land','wrong_fragment','urgent','hot','num_failed_logins','logged_in','num_compromised','root_shell','su_attempted',\n",
        "'num_root','num_file_creations','num_shells','num_access_files','num_outbound_cmds',\n",
        "'is_host_login',\n",
        "'is_guest_login',\n",
        "'count',\n",
        "'srv_count',\n",
        "'serror_rate',\n",
        "'srv_serror_rate',\n",
        "'rerror_rate',\n",
        "'srv_rerror_rate',\n",
        "'same_srv_rate',\n",
        "'diff_srv_rate',\n",
        "'srv_diff_host_rate',\n",
        "'dst_host_count',\n",
        "'dst_host_srv_count',\n",
        "'dst_host_same_srv_rate',\n",
        "'dst_host_diff_srv_rate',\n",
        "'dst_host_same_src_port_rate',\n",
        "'dst_host_srv_diff_host_rate',\n",
        "'dst_host_serror_rate',\n",
        "'dst_host_srv_serror_rate',\n",
        "'dst_host_rerror_rate',\n",
        "'dst_host_srv_rerror_rate',\n",
        "'intrusion_type']"
      ]
    },
    {
      "cell_type": "code",
      "execution_count": 3,
      "metadata": {
        "colab": {
          "base_uri": "https://localhost:8080/"
        },
        "id": "u_AOoCf5ZQ5X",
        "outputId": "c4743a22-62ad-46a5-94d1-1f80aa9bb0dd"
      },
      "outputs": [
        {
          "name": "stdout",
          "output_type": "stream",
          "text": [
            "Total rows and columns: (83747, 42)\n"
          ]
        }
      ],
      "source": [
        "df = pd.read_csv('sample_data/kddcup.data_10_percent_testing.csv', names=columns, header=None)\n",
        "print(f\"Total rows and columns: {df.shape}\")"
      ]
    },
    {
      "cell_type": "code",
      "execution_count": 4,
      "metadata": {
        "id": "fpMxNkhSZUBL"
      },
      "outputs": [],
      "source": [
        "# Ordinal Encoding\n",
        "from sklearn.preprocessing import OrdinalEncoder\n",
        "\n",
        "columns_encode = ['protocol_type','service','flag','intrusion_type']\n",
        "df[columns_encode] = OrdinalEncoder().fit_transform(df[columns_encode])"
      ]
    },
    {
      "cell_type": "code",
      "execution_count": 5,
      "metadata": {
        "colab": {
          "base_uri": "https://localhost:8080/"
        },
        "id": "6BUYUd3oZxDt",
        "outputId": "e661b961-7f60-4f09-b505-922cca8344f2"
      },
      "outputs": [
        {
          "name": "stdout",
          "output_type": "stream",
          "text": [
            "Number of NANs before removal: 14\n",
            "Number of NaNs after removal: 0\n"
          ]
        }
      ],
      "source": [
        "# Check for NANs\n",
        "NANs_before = df.isna().sum().sum()\n",
        "print(f\"Number of NANs before removal: {NANs_before}\")\n",
        "df.dropna(inplace=True)\n",
        "NANs_after = df.isna().sum().sum()\n",
        "print(f\"Number of NaNs after removal: {NANs_after}\")"
      ]
    },
    {
      "cell_type": "code",
      "execution_count": 6,
      "metadata": {
        "colab": {
          "base_uri": "https://localhost:8080/"
        },
        "id": "sTg6TWzF6wgS",
        "outputId": "5d572eda-ecaf-427a-f783-2a9462aa44c4"
      },
      "outputs": [
        {
          "name": "stdout",
          "output_type": "stream",
          "text": [
            "Number of duplicate rows before removal: 21964\n",
            "Number of duplicate rows after removal: 0\n"
          ]
        }
      ],
      "source": [
        "# Check for Duplicates\n",
        "duplicates_before = df.duplicated().sum()\n",
        "print(f\"Number of duplicate rows before removal: {duplicates_before}\")\n",
        "df.drop_duplicates(inplace=True)\n",
        "duplicates_after = df.duplicated().sum()\n",
        "print(f\"Number of duplicate rows after removal: {duplicates_after}\")"
      ]
    },
    {
      "cell_type": "code",
      "execution_count": 7,
      "metadata": {
        "id": "phGzOmoB7p7U"
      },
      "outputs": [],
      "source": [
        "# print(df.shape)"
      ]
    },
    {
      "cell_type": "code",
      "execution_count": 8,
      "metadata": {
        "id": "PSjXUTzy9NHe"
      },
      "outputs": [],
      "source": [
        "# Split into Train and Test\n",
        "from sklearn.model_selection import train_test_split\n",
        "\n",
        "x = df.drop('intrusion_type', axis=1)\n",
        "y = df['intrusion_type']\n",
        "\n",
        "x_train, x_test, y_train, y_test = train_test_split(x, y, test_size=0.2, train_size=0.8)"
      ]
    },
    {
      "cell_type": "code",
      "execution_count": null,
      "metadata": {
        "id": "aT1U4zex6JJJ"
      },
      "outputs": [],
      "source": [
        "# Random Forest\n",
        "from sklearn.ensemble import RandomForestClassifier\n",
        "from sklearn.metrics import accuracy_score, f1_score, precision_score, recall_score, confusion_matrix\n",
        "\n",
        "def RandomForest(x_train, y_train, x_test, y_test):\n",
        "  rf = RandomForestClassifier(n_estimators=100, random_state=42)\n",
        "  rf.fit(x_train, y_train)\n",
        "\n",
        "  y_predict = rf.predict(x_test)\n",
        "  accuracy = accuracy_score(y_test, y_predict)\n",
        "  f1 = f1_score(y_test, y_predict, average='weighted')\n",
        "\n",
        "  print(f\"Accuracy: {accuracy}\")\n",
        "  print(f\"F1 Score: {f1}\")"
      ]
    },
    {
      "cell_type": "code",
      "execution_count": 16,
      "metadata": {
        "id": "XSzLN8GA1XuN"
      },
      "outputs": [],
      "source": [
        "# Reference: https://github.com/atulpatelDS/Youtube/blob/main/Machine_Learning/Imbalanced_Dataset_Handling/Different%20Techniques%20to%20deal%20with%20Imbalanced%20Dataset%20(Imbalanced%20Classes)%20in%20Machine%20Learning.ipynb\n",
        "# Random Oversampling with Smoothing\n",
        "from imblearn.over_sampling import RandomOverSampler\n",
        "\n",
        "def random_oversampling(x_train, y_train):\n",
        "  ros = RandomOverSampler()\n",
        "  x_train_ros, y_train_ros = ros.fit_resample(x_train, y_train)\n",
        "  return x_train_ros, y_train_ros\n",
        "  # print(f\"x_train_ros shape: {x_train_ros.shape}, y_train_ros shape: {y_train_ros.shape}\")"
      ]
    },
    {
      "cell_type": "code",
      "execution_count": 17,
      "metadata": {
        "colab": {
          "base_uri": "https://localhost:8080/"
        },
        "id": "dbVm3A9R135-",
        "outputId": "c5aa907e-de8d-4141-e39e-b7ed0ff9f199"
      },
      "outputs": [
        {
          "name": "stdout",
          "output_type": "stream",
          "text": [
            "Accuracy: 0.9995144452537024\n"
          ]
        }
      ],
      "source": [
        "# Random Oversampling with Smoothing (for nonaugmented dataset)\n",
        "RandomForest(x_train, y_train, x_test, y_test)"
      ]
    },
    {
      "cell_type": "code",
      "execution_count": 18,
      "metadata": {
        "colab": {
          "base_uri": "https://localhost:8080/"
        },
        "id": "0AADkWsw-HmY",
        "outputId": "8ef7ec7e-703f-495b-ab3e-7796092a857e"
      },
      "outputs": [
        {
          "name": "stdout",
          "output_type": "stream",
          "text": [
            "Accuracy: 0.9993525936716031\n"
          ]
        }
      ],
      "source": [
        "# Random Oversampling with Smoothing (for augmented dataset)\n",
        "x_train_ros, y_train_ros = random_oversampling(x_train, y_train)\n",
        "RandomForest(x_train_ros, y_train_ros, x_test, y_test)"
      ]
    },
    {
      "cell_type": "code",
      "execution_count": null,
      "metadata": {
        "id": "iQZal6hB0wLZ"
      },
      "outputs": [],
      "source": [
        "# SMOTE-NC (for augmented dataset)"
      ]
    },
    {
      "cell_type": "code",
      "execution_count": null,
      "metadata": {
        "id": "VTH-h7L52BWA"
      },
      "outputs": [],
      "source": [
        "# SMOTE-NC (for nonaugmented dataset)"
      ]
    }
  ],
  "metadata": {
    "colab": {
      "provenance": []
    },
    "kernelspec": {
      "display_name": "Python 3",
      "name": "python3"
    },
    "language_info": {
      "name": "python"
    }
  },
  "nbformat": 4,
  "nbformat_minor": 0
}

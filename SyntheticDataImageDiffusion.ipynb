{
  "nbformat": 4,
  "nbformat_minor": 0,
  "metadata": {
    "colab": {
      "provenance": []
    },
    "kernelspec": {
      "name": "python3",
      "display_name": "Python 3"
    },
    "language_info": {
      "name": "python"
    }
  },
  "cells": [
    {
      "cell_type": "code",
      "source": [
        "import pandas as pd\n",
        "from sklearn.preprocessing import OrdinalEncoder"
      ],
      "metadata": {
        "id": "Tfq4a23XZpof"
      },
      "execution_count": 22,
      "outputs": []
    },
    {
      "cell_type": "code",
      "source": [
        "# Reference: https://github.com/Saurabh2805/kdd_cup_99/blob/master/KDD_CUP_99_dataset_1.ipynb\n",
        "# Label = 'intrusion_type'\n",
        "columns = ['duration','protocol_type','service','flag','src_bytes','dst_bytes','land','wrong_fragment','urgent','hot','num_failed_logins','logged_in','num_compromised','root_shell','su_attempted',\n",
        "'num_root','num_file_creations','num_shells','num_access_files','num_outbound_cmds',\n",
        "'is_host_login',\n",
        "'is_guest_login',\n",
        "'count',\n",
        "'srv_count',\n",
        "'serror_rate',\n",
        "'srv_serror_rate',\n",
        "'rerror_rate',\n",
        "'srv_rerror_rate',\n",
        "'same_srv_rate',\n",
        "'diff_srv_rate',\n",
        "'srv_diff_host_rate',\n",
        "'dst_host_count',\n",
        "'dst_host_srv_count',\n",
        "'dst_host_same_srv_rate',\n",
        "'dst_host_diff_srv_rate',\n",
        "'dst_host_same_src_port_rate',\n",
        "'dst_host_srv_diff_host_rate',\n",
        "'dst_host_serror_rate',\n",
        "'dst_host_srv_serror_rate',\n",
        "'dst_host_rerror_rate',\n",
        "'dst_host_srv_rerror_rate',\n",
        "'intrusion_type']"
      ],
      "metadata": {
        "id": "08eNXRe-ZOgB"
      },
      "execution_count": 23,
      "outputs": []
    },
    {
      "cell_type": "code",
      "source": [
        "df = pd.read_csv('sample_data/kddcup.data_10_percent_testing.csv', names=columns, header=None)\n",
        "print(f\"Total rows and columns: {df.shape}\")"
      ],
      "metadata": {
        "id": "u_AOoCf5ZQ5X",
        "colab": {
          "base_uri": "https://localhost:8080/"
        },
        "outputId": "e5f47302-3e4c-4253-e99b-340f1378930a"
      },
      "execution_count": 24,
      "outputs": [
        {
          "output_type": "stream",
          "name": "stdout",
          "text": [
            "Total rows and columns: (494021, 42)\n"
          ]
        }
      ]
    },
    {
      "cell_type": "code",
      "source": [
        "# Ordinal Encoding\n",
        "columns_encode = ['protocol_type','service','flag','intrusion_type']\n",
        "df[columns_encode] = OrdinalEncoder().fit_transform(df[columns_encode])"
      ],
      "metadata": {
        "id": "fpMxNkhSZUBL"
      },
      "execution_count": 25,
      "outputs": []
    },
    {
      "cell_type": "code",
      "source": [
        "# Check for NANs\n",
        "print(f\"Number of NANs: {df.isna().sum().sum()}\")\n",
        "df.dropna(inplace=True)\n",
        "print(f\"Number of NaNs after drop: {df.isna().sum().sum()}\")"
      ],
      "metadata": {
        "id": "6BUYUd3oZxDt",
        "colab": {
          "base_uri": "https://localhost:8080/"
        },
        "outputId": "abf6add1-6721-4c84-e6a5-d80ce2c93a0d"
      },
      "execution_count": 26,
      "outputs": [
        {
          "output_type": "stream",
          "name": "stdout",
          "text": [
            "Number of NANs: 0\n",
            "Number of NaNs after drop: 0\n"
          ]
        }
      ]
    },
    {
      "cell_type": "code",
      "source": [
        "duplicates_before = df.duplicated().sum()\n",
        "print(f\"Number of duplicate rows before removal: {duplicates_before}\")\n",
        "df.drop_duplicates(inplace=True)\n",
        "duplicates_after = df.duplicated().sum()\n",
        "print(f\"Number of duplicate rows after removal: {duplicates_after}\")"
      ],
      "metadata": {
        "colab": {
          "base_uri": "https://localhost:8080/"
        },
        "id": "sTg6TWzF6wgS",
        "outputId": "ee9901f9-9681-4995-e5b3-2e32e58353d4"
      },
      "execution_count": 27,
      "outputs": [
        {
          "output_type": "stream",
          "name": "stdout",
          "text": [
            "Number of duplicate rows before removal: 348435\n",
            "Number of duplicate rows after removal: 0\n"
          ]
        }
      ]
    },
    {
      "cell_type": "code",
      "source": [
        "print(df.shape)"
      ],
      "metadata": {
        "colab": {
          "base_uri": "https://localhost:8080/"
        },
        "id": "phGzOmoB7p7U",
        "outputId": "4433fb17-e42c-4570-f4c5-b7f0e55a390e"
      },
      "execution_count": 28,
      "outputs": [
        {
          "output_type": "stream",
          "name": "stdout",
          "text": [
            "(145586, 42)\n"
          ]
        }
      ]
    },
    {
      "cell_type": "code",
      "source": [
        "print(\"Class distribution:\")\n",
        "print(df['intrusion_type'].value_counts())"
      ],
      "metadata": {
        "colab": {
          "base_uri": "https://localhost:8080/"
        },
        "id": "FgHDIWk_2ZO_",
        "outputId": "4403ddf0-f847-4ea1-c188-f51c7327a478"
      },
      "execution_count": 29,
      "outputs": [
        {
          "output_type": "stream",
          "name": "stdout",
          "text": [
            "Class distribution:\n",
            "intrusion_type\n",
            "11.0    87832\n",
            "9.0     51820\n",
            "0.0       968\n",
            "20.0      918\n",
            "17.0      906\n",
            "21.0      893\n",
            "5.0       651\n",
            "18.0      641\n",
            "15.0      416\n",
            "14.0      206\n",
            "10.0      158\n",
            "3.0        53\n",
            "1.0        30\n",
            "22.0       20\n",
            "6.0        19\n",
            "4.0        12\n",
            "16.0       10\n",
            "7.0         9\n",
            "2.0         8\n",
            "8.0         7\n",
            "13.0        4\n",
            "12.0        3\n",
            "19.0        2\n",
            "Name: count, dtype: int64\n"
          ]
        }
      ]
    },
    {
      "cell_type": "code",
      "source": [
        "#Random forest on non-augmented dataset.\n",
        "from sklearn.ensemble import RandomForestClassifier\n",
        "from sklearn.model_selection import train_test_split\n",
        "from sklearn.metrics import classification_report\n",
        "\n",
        "# 1. Split features and target\n",
        "X = df.drop(columns=['intrusion_type'])\n",
        "y = df['intrusion_type']\n",
        "\n",
        "# 2. Train-test split\n",
        "X_train, X_test, y_train, y_test = train_test_split(\n",
        "    X, y, test_size=0.2, stratify=y, random_state=42\n",
        ")\n",
        "\n",
        "# 3. Train Random Forest\n",
        "rf = RandomForestClassifier(random_state=42)\n",
        "rf.fit(X_train, y_train)\n",
        "\n",
        "# 4. Evaluate on test set\n",
        "y_pred = rf.predict(X_test)\n",
        "print(\"Classification Report (Non-Augmented):\")\n",
        "print(classification_report(y_test, y_pred))\n"
      ],
      "metadata": {
        "colab": {
          "base_uri": "https://localhost:8080/"
        },
        "id": "Rh4vGAVFAaXt",
        "outputId": "d1c2e1d7-463a-475f-b866-16f2bd06b576"
      },
      "execution_count": 30,
      "outputs": [
        {
          "output_type": "stream",
          "name": "stdout",
          "text": [
            "Classification Report (Non-Augmented):\n",
            "              precision    recall  f1-score   support\n",
            "\n",
            "         0.0       1.00      0.99      1.00       194\n",
            "         1.0       0.67      0.67      0.67         6\n",
            "         2.0       0.00      0.00      0.00         2\n",
            "         3.0       1.00      1.00      1.00        11\n",
            "         4.0       1.00      0.50      0.67         2\n",
            "         5.0       1.00      0.98      0.99       130\n",
            "         6.0       1.00      0.75      0.86         4\n",
            "         7.0       0.00      0.00      0.00         2\n",
            "         8.0       0.00      0.00      0.00         1\n",
            "         9.0       1.00      1.00      1.00     10364\n",
            "        10.0       0.97      0.97      0.97        32\n",
            "        11.0       1.00      1.00      1.00     17567\n",
            "        13.0       1.00      1.00      1.00         1\n",
            "        14.0       1.00      1.00      1.00        41\n",
            "        15.0       0.98      1.00      0.99        83\n",
            "        16.0       0.00      0.00      0.00         2\n",
            "        17.0       0.99      0.99      0.99       181\n",
            "        18.0       1.00      0.98      0.99       128\n",
            "        20.0       1.00      1.00      1.00       184\n",
            "        21.0       0.99      0.98      0.99       179\n",
            "        22.0       0.75      0.75      0.75         4\n",
            "\n",
            "    accuracy                           1.00     29118\n",
            "   macro avg       0.78      0.74      0.76     29118\n",
            "weighted avg       1.00      1.00      1.00     29118\n",
            "\n"
          ]
        },
        {
          "output_type": "stream",
          "name": "stderr",
          "text": [
            "/usr/local/lib/python3.11/dist-packages/sklearn/metrics/_classification.py:1565: UndefinedMetricWarning: Precision is ill-defined and being set to 0.0 in labels with no predicted samples. Use `zero_division` parameter to control this behavior.\n",
            "  _warn_prf(average, modifier, f\"{metric.capitalize()} is\", len(result))\n",
            "/usr/local/lib/python3.11/dist-packages/sklearn/metrics/_classification.py:1565: UndefinedMetricWarning: Precision is ill-defined and being set to 0.0 in labels with no predicted samples. Use `zero_division` parameter to control this behavior.\n",
            "  _warn_prf(average, modifier, f\"{metric.capitalize()} is\", len(result))\n",
            "/usr/local/lib/python3.11/dist-packages/sklearn/metrics/_classification.py:1565: UndefinedMetricWarning: Precision is ill-defined and being set to 0.0 in labels with no predicted samples. Use `zero_division` parameter to control this behavior.\n",
            "  _warn_prf(average, modifier, f\"{metric.capitalize()} is\", len(result))\n"
          ]
        }
      ]
    },
    {
      "cell_type": "code",
      "source": [
        "#Random Oversampling with Smoothing for nonaugmented dataset"
      ],
      "metadata": {
        "id": "XSzLN8GA1XuN"
      },
      "execution_count": null,
      "outputs": []
    },
    {
      "cell_type": "code",
      "source": [
        "#SMOTENC for nonaugmented dataset\n",
        "from imblearn.over_sampling import SMOTENC\n",
        "from sklearn.preprocessing import OrdinalEncoder\n",
        "\n",
        "# Drop classes with fewer than 6 samples\n",
        "vc = df['intrusion_type'].value_counts()\n",
        "valid_classes = vc[vc >= 6].index\n",
        "df = df[df['intrusion_type'].isin(valid_classes)]\n",
        "\n",
        "#Categorical column names\n",
        "categorical_cols = ['protocol_type', 'service', 'flag']\n",
        "cat_indices = [df.columns.get_loc(col) for col in categorical_cols]\n",
        "\n",
        "# Split features and target\n",
        "X = df.drop(columns=['intrusion_type'])\n",
        "y = df['intrusion_type']\n",
        "\n",
        "#Apply SMOTENC\n",
        "smote_nc = SMOTENC(categorical_features=cat_indices, random_state=42, sampling_strategy='auto')\n",
        "X_resampled, y_resampled = smote_nc.fit_resample(X, y)\n",
        "\n",
        "print(\"Original dataset class distribution:\")\n",
        "print(y.value_counts())\n",
        "\n",
        "print(\"\\nAugmented dataset class distribution:\")\n",
        "print(y_resampled.value_counts())\n",
        "# Create augmented DataFrame\n",
        "df_augmented = pd.DataFrame(X_resampled, columns=X.columns)\n",
        "df_augmented['intrusion_type'] = y_resampled\n",
        "\n",
        "print(\"Original dataset class distribution:\")\n",
        "print(y.value_counts())\n",
        "\n",
        "print(\"\\nAugmented dataset class distribution:\")\n",
        "print(y_resampled.value_counts())\n"
      ],
      "metadata": {
        "colab": {
          "base_uri": "https://localhost:8080/"
        },
        "id": "iQZal6hB0wLZ",
        "outputId": "ac2b4781-bdb1-4d06-ff2b-3f8cf4c1f9d0"
      },
      "execution_count": 31,
      "outputs": [
        {
          "output_type": "stream",
          "name": "stdout",
          "text": [
            "Original dataset class distribution:\n",
            "intrusion_type\n",
            "11.0    87832\n",
            "9.0     51820\n",
            "0.0       968\n",
            "20.0      918\n",
            "17.0      906\n",
            "21.0      893\n",
            "5.0       651\n",
            "18.0      641\n",
            "15.0      416\n",
            "14.0      206\n",
            "10.0      158\n",
            "3.0        53\n",
            "1.0        30\n",
            "22.0       20\n",
            "6.0        19\n",
            "4.0        12\n",
            "16.0       10\n",
            "7.0         9\n",
            "2.0         8\n",
            "8.0         7\n",
            "Name: count, dtype: int64\n",
            "\n",
            "Augmented dataset class distribution:\n",
            "intrusion_type\n",
            "11.0    87832\n",
            "1.0     87832\n",
            "7.0     87832\n",
            "9.0     87832\n",
            "18.0    87832\n",
            "3.0     87832\n",
            "14.0    87832\n",
            "20.0    87832\n",
            "15.0    87832\n",
            "5.0     87832\n",
            "6.0     87832\n",
            "2.0     87832\n",
            "0.0     87832\n",
            "4.0     87832\n",
            "17.0    87832\n",
            "10.0    87832\n",
            "8.0     87832\n",
            "22.0    87832\n",
            "21.0    87832\n",
            "16.0    87832\n",
            "Name: count, dtype: int64\n",
            "Original dataset class distribution:\n",
            "intrusion_type\n",
            "11.0    87832\n",
            "9.0     51820\n",
            "0.0       968\n",
            "20.0      918\n",
            "17.0      906\n",
            "21.0      893\n",
            "5.0       651\n",
            "18.0      641\n",
            "15.0      416\n",
            "14.0      206\n",
            "10.0      158\n",
            "3.0        53\n",
            "1.0        30\n",
            "22.0       20\n",
            "6.0        19\n",
            "4.0        12\n",
            "16.0       10\n",
            "7.0         9\n",
            "2.0         8\n",
            "8.0         7\n",
            "Name: count, dtype: int64\n",
            "\n",
            "Augmented dataset class distribution:\n",
            "intrusion_type\n",
            "11.0    87832\n",
            "1.0     87832\n",
            "7.0     87832\n",
            "9.0     87832\n",
            "18.0    87832\n",
            "3.0     87832\n",
            "14.0    87832\n",
            "20.0    87832\n",
            "15.0    87832\n",
            "5.0     87832\n",
            "6.0     87832\n",
            "2.0     87832\n",
            "0.0     87832\n",
            "4.0     87832\n",
            "17.0    87832\n",
            "10.0    87832\n",
            "8.0     87832\n",
            "22.0    87832\n",
            "21.0    87832\n",
            "16.0    87832\n",
            "Name: count, dtype: int64\n"
          ]
        }
      ]
    },
    {
      "cell_type": "code",
      "source": [
        "# Use your augmented DataFrame\n",
        "X_aug = df_augmented.drop(columns=['intrusion_type'])\n",
        "y_aug = df_augmented['intrusion_type']\n",
        "\n",
        "# Train-test split\n",
        "X_train_aug, X_test_aug, y_train_aug, y_test_aug = train_test_split(\n",
        "    X_aug, y_aug, test_size=0.2, stratify=y_aug, random_state=42\n",
        ")\n",
        "\n",
        "# Train and evaluate\n",
        "rf_aug = RandomForestClassifier(random_state=42)\n",
        "rf_aug.fit(X_train_aug, y_train_aug)\n",
        "y_pred_aug = rf_aug.predict(X_test_aug)\n",
        "\n",
        "print(\"Classification Report (SMOTENC-Augmented):\")\n",
        "print(classification_report(y_test_aug, y_pred_aug))\n"
      ],
      "metadata": {
        "colab": {
          "base_uri": "https://localhost:8080/"
        },
        "id": "eu22pgyJA9ap",
        "outputId": "d13ebcbc-0c2c-4da5-8e19-4fca1e70120b"
      },
      "execution_count": 33,
      "outputs": [
        {
          "output_type": "stream",
          "name": "stdout",
          "text": [
            "Classification Report (SMOTENC-Augmented):\n",
            "              precision    recall  f1-score   support\n",
            "\n",
            "         0.0       1.00      1.00      1.00     17566\n",
            "         1.0       1.00      1.00      1.00     17566\n",
            "         2.0       1.00      1.00      1.00     17566\n",
            "         3.0       1.00      1.00      1.00     17566\n",
            "         4.0       1.00      1.00      1.00     17567\n",
            "         5.0       1.00      1.00      1.00     17566\n",
            "         6.0       1.00      1.00      1.00     17567\n",
            "         7.0       1.00      1.00      1.00     17567\n",
            "         8.0       1.00      1.00      1.00     17566\n",
            "         9.0       1.00      1.00      1.00     17567\n",
            "        10.0       1.00      1.00      1.00     17567\n",
            "        11.0       1.00      1.00      1.00     17566\n",
            "        14.0       1.00      1.00      1.00     17567\n",
            "        15.0       1.00      1.00      1.00     17566\n",
            "        16.0       1.00      1.00      1.00     17567\n",
            "        17.0       1.00      1.00      1.00     17566\n",
            "        18.0       1.00      1.00      1.00     17566\n",
            "        20.0       1.00      1.00      1.00     17566\n",
            "        21.0       1.00      1.00      1.00     17566\n",
            "        22.0       1.00      1.00      1.00     17567\n",
            "\n",
            "    accuracy                           1.00    351328\n",
            "   macro avg       1.00      1.00      1.00    351328\n",
            "weighted avg       1.00      1.00      1.00    351328\n",
            "\n"
          ]
        }
      ]
    }
  ]
}